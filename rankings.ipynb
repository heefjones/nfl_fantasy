{
 "cells": [
  {
   "cell_type": "code",
   "execution_count": null,
   "id": "b8f67409",
   "metadata": {},
   "outputs": [],
   "source": [
    "from helper import *"
   ]
  },
  {
   "cell_type": "code",
   "execution_count": null,
   "id": "070f7630",
   "metadata": {},
   "outputs": [],
   "source": [
    "pd.set_option('display.max_rows', None)\n",
    "\n",
    "# load preds\n",
    "preds_2025 = pd.read_csv('./data/clean/predictions_2025.csv')\n",
    "\n",
    "pos = 'QB'\n",
    "preds_2025.query('pos == @pos').sort_values('ppg_pred', ascending=False).head(36)\n",
    "\n",
    "teams_2024 = pd.read_csv('./data/pff/team/2024.csv')\n",
    "teams_2024['blocking grade'] = (teams_2024['Pass Blocking Grade'] + teams_2024['Run Blocking Grade']).div(2)\n",
    "teams_2024 = teams_2024[['Tm', 'Points For', 'Points Against', 'blocking grade', 'Pass Blocking Grade', 'Run Blocking Grade']].copy().sort_values('blocking grade', ascending=False).reset_index(drop=True)\n",
    "teams_2024"
   ]
  }
 ],
 "metadata": {
  "kernelspec": {
   "display_name": "mmlm_env",
   "language": "python",
   "name": "python3"
  },
  "language_info": {
   "codemirror_mode": {
    "name": "ipython",
    "version": 3
   },
   "file_extension": ".py",
   "mimetype": "text/x-python",
   "name": "python",
   "nbconvert_exporter": "python",
   "pygments_lexer": "ipython3",
   "version": "3.11.11"
  }
 },
 "nbformat": 4,
 "nbformat_minor": 5
}
