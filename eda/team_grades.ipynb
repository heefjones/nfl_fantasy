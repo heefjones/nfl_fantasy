{
 "cells": [
  {
   "cell_type": "markdown",
   "metadata": {},
   "source": [
    "# Team Grades\n",
    "In this notebook we will look at team-related PFF grades and their impact on individual player fantasy production.\n",
    "\n",
    "#### __Goal__: Discover how team-related performance (blocking, defense, etc.) affects each position's fantasy performance.\n",
    "\n",
    "This analysis will specifically look at __PPR__ scoring.\n",
    "\n",
    "The data only contains full-season data (not game-by-game), so it is tailored towards __redraft__ fantasy football leagues. It may not be as predictive for best ball leagues."
   ]
  },
  {
   "cell_type": "code",
   "execution_count": 4,
   "metadata": {},
   "outputs": [],
   "source": [
    "# imports\n",
    "import pandas as pd\n",
    "import numpy as np\n",
    "import matplotlib.pyplot as plt\n",
    "import seaborn as sns\n",
    "import os\n",
    "\n",
    "# display\n",
    "pd.set_option('display.max_rows', 100)\n",
    "pd.set_option('display.max_columns', 100)\n",
    "\n",
    "# global random_state\n",
    "random_state = 9"
   ]
  },
  {
   "cell_type": "code",
   "execution_count": 32,
   "metadata": {},
   "outputs": [],
   "source": [
    "def view_player(player, df):\n",
    "    return df[df['Player'] == player]"
   ]
  },
  {
   "cell_type": "markdown",
   "metadata": {},
   "source": [
    "We will load in the 4 positional subsets. Since we don't have PFF grades prior to 2006, we will drop these seasons."
   ]
  },
  {
   "cell_type": "code",
   "execution_count": 17,
   "metadata": {},
   "outputs": [
    {
     "data": {
      "text/plain": [
       "((1398, 172), (3187, 173), (4094, 161), (2243, 161))"
      ]
     },
     "execution_count": 17,
     "metadata": {},
     "output_type": "execute_result"
    }
   ],
   "source": [
    "# load data\n",
    "qb = pd.read_csv('../data/final_data/qb.csv')\n",
    "rb = pd.read_csv('../data/final_data/rb.csv')\n",
    "wr = pd.read_csv('../data/final_data/wr.csv')\n",
    "te = pd.read_csv('../data/final_data/te.csv')\n",
    "\n",
    "# drop seasons before 2006\n",
    "qb = qb[qb['Year'] >= 2006]\n",
    "rb = rb[rb['Year'] >= 2006]\n",
    "wr = wr[wr['Year'] >= 2006]\n",
    "te = te[te['Year'] >= 2006]\n",
    "\n",
    "# check shapes\n",
    "qb.shape, rb.shape, wr.shape, te.shape"
   ]
  },
  {
   "cell_type": "markdown",
   "metadata": {},
   "source": [
    "Many of the seasons that we have are seasons of backup players with very little volume. The goal of this analysis is to identify how much __team performance__ impacts a fantasy player's performance. We will identify all players who have finished at or above replacement-level (in PPG) at least 1 time in their career. This will be the subset that we will analyze."
   ]
  },
  {
   "cell_type": "code",
   "execution_count": 18,
   "metadata": {},
   "outputs": [
    {
     "data": {
      "text/plain": [
       "((615, 172), (1163, 173), (1569, 161), (601, 161))"
      ]
     },
     "execution_count": 18,
     "metadata": {},
     "output_type": "execute_result"
    }
   ],
   "source": [
    "# List of DataFrames to iterate over\n",
    "dfs = [qb, rb, wr, te]\n",
    "\n",
    "# Iterate over each position and update the DataFrame\n",
    "for i in range(len(dfs)):\n",
    "    df = dfs[i]\n",
    "    \n",
    "    # Get all unique 'Key' values that have at least 1 'PPG_VORP_half-ppr_12tm_3WR' value >= 0\n",
    "    keys = df[df['PPG_VORP_half-ppr_12tm_3WR'] >= 0]['Key'].unique()\n",
    "\n",
    "    # Update the DataFrame to drop all rows with 'Key' values not in the key set\n",
    "    dfs[i] = df[df['Key'].isin(keys)]\n",
    "\n",
    "# Assign the updated DataFrames back to the original variables\n",
    "qb, rb, wr, te = dfs\n",
    "\n",
    "# check shapes\n",
    "qb.shape, rb.shape, wr.shape, te.shape"
   ]
  },
  {
   "cell_type": "markdown",
   "metadata": {},
   "source": [
    "## QB"
   ]
  },
  {
   "cell_type": "code",
   "execution_count": 29,
   "metadata": {},
   "outputs": [
    {
     "data": {
      "text/plain": [
       "count    610.000000\n",
       "mean       0.141060\n",
       "std        0.357379\n",
       "min       -5.000000\n",
       "25%        0.036948\n",
       "50%        0.097417\n",
       "75%        0.197577\n",
       "max        2.674419\n",
       "Name: %Pts_rush, dtype: float64"
      ]
     },
     "execution_count": 29,
     "metadata": {},
     "output_type": "execute_result"
    }
   ],
   "source": [
    "# create '%Pts_rush' col for QBs\n",
    "qb['%Pts_rush'] = ((qb['Rush_Yds'] * 0.1) + (qb['Rush_TD'] * 6)) / qb['Points_standard']\n",
    "\n",
    "# inspect new col\n",
    "qb['%Pts_rush'].describe()\n",
    "\n",
    "# define a 'rushing' QB threshold"
   ]
  },
  {
   "cell_type": "code",
   "execution_count": 35,
   "metadata": {},
   "outputs": [
    {
     "data": {
      "text/html": [
       "<div>\n",
       "<style scoped>\n",
       "    .dataframe tbody tr th:only-of-type {\n",
       "        vertical-align: middle;\n",
       "    }\n",
       "\n",
       "    .dataframe tbody tr th {\n",
       "        vertical-align: top;\n",
       "    }\n",
       "\n",
       "    .dataframe thead th {\n",
       "        text-align: right;\n",
       "    }\n",
       "</style>\n",
       "<table border=\"1\" class=\"dataframe\">\n",
       "  <thead>\n",
       "    <tr style=\"text-align: right;\">\n",
       "      <th></th>\n",
       "      <th>Year</th>\n",
       "      <th>PPG_VORP_half-ppr_12tm_3WR</th>\n",
       "      <th>%Pts_rush</th>\n",
       "    </tr>\n",
       "  </thead>\n",
       "  <tbody>\n",
       "    <tr>\n",
       "      <th>3713</th>\n",
       "      <td>2018</td>\n",
       "      <td>-8.369464</td>\n",
       "      <td>0.631586</td>\n",
       "    </tr>\n",
       "    <tr>\n",
       "      <th>3795</th>\n",
       "      <td>2019</td>\n",
       "      <td>10.052000</td>\n",
       "      <td>0.391166</td>\n",
       "    </tr>\n",
       "    <tr>\n",
       "      <th>3872</th>\n",
       "      <td>2020</td>\n",
       "      <td>0.935750</td>\n",
       "      <td>0.430800</td>\n",
       "    </tr>\n",
       "    <tr>\n",
       "      <th>3961</th>\n",
       "      <td>2021</td>\n",
       "      <td>0.893750</td>\n",
       "      <td>0.375879</td>\n",
       "    </tr>\n",
       "    <tr>\n",
       "      <th>4042</th>\n",
       "      <td>2022</td>\n",
       "      <td>2.004848</td>\n",
       "      <td>0.403281</td>\n",
       "    </tr>\n",
       "    <tr>\n",
       "      <th>4124</th>\n",
       "      <td>2023</td>\n",
       "      <td>2.870096</td>\n",
       "      <td>0.340502</td>\n",
       "    </tr>\n",
       "  </tbody>\n",
       "</table>\n",
       "</div>"
      ],
      "text/plain": [
       "      Year  PPG_VORP_half-ppr_12tm_3WR  %Pts_rush\n",
       "3713  2018                   -8.369464   0.631586\n",
       "3795  2019                   10.052000   0.391166\n",
       "3872  2020                    0.935750   0.430800\n",
       "3961  2021                    0.893750   0.375879\n",
       "4042  2022                    2.004848   0.403281\n",
       "4124  2023                    2.870096   0.340502"
      ]
     },
     "execution_count": 35,
     "metadata": {},
     "output_type": "execute_result"
    }
   ],
   "source": [
    "view_player('Lamar Jackson', qb)[['Year', 'PPG_VORP_half-ppr_12tm_3WR', '%Pts_rush']]"
   ]
  },
  {
   "cell_type": "code",
   "execution_count": 36,
   "metadata": {},
   "outputs": [
    {
     "data": {
      "text/html": [
       "<div>\n",
       "<style scoped>\n",
       "    .dataframe tbody tr th:only-of-type {\n",
       "        vertical-align: middle;\n",
       "    }\n",
       "\n",
       "    .dataframe tbody tr th {\n",
       "        vertical-align: top;\n",
       "    }\n",
       "\n",
       "    .dataframe thead th {\n",
       "        text-align: right;\n",
       "    }\n",
       "</style>\n",
       "<table border=\"1\" class=\"dataframe\">\n",
       "  <thead>\n",
       "    <tr style=\"text-align: right;\">\n",
       "      <th></th>\n",
       "      <th>Year</th>\n",
       "      <th>PPG_VORP_half-ppr_12tm_3WR</th>\n",
       "      <th>%Pts_rush</th>\n",
       "    </tr>\n",
       "  </thead>\n",
       "  <tbody>\n",
       "    <tr>\n",
       "      <th>3705</th>\n",
       "      <td>2018</td>\n",
       "      <td>-1.044048</td>\n",
       "      <td>0.539163</td>\n",
       "    </tr>\n",
       "    <tr>\n",
       "      <th>3801</th>\n",
       "      <td>2019</td>\n",
       "      <td>0.000000</td>\n",
       "      <td>0.371602</td>\n",
       "    </tr>\n",
       "    <tr>\n",
       "      <th>3873</th>\n",
       "      <td>2020</td>\n",
       "      <td>3.606250</td>\n",
       "      <td>0.228067</td>\n",
       "    </tr>\n",
       "    <tr>\n",
       "      <th>3952</th>\n",
       "      <td>2021</td>\n",
       "      <td>4.556985</td>\n",
       "      <td>0.283171</td>\n",
       "    </tr>\n",
       "    <tr>\n",
       "      <th>4036</th>\n",
       "      <td>2022</td>\n",
       "      <td>6.968182</td>\n",
       "      <td>0.301900</td>\n",
       "    </tr>\n",
       "    <tr>\n",
       "      <th>4122</th>\n",
       "      <td>2023</td>\n",
       "      <td>5.037376</td>\n",
       "      <td>0.368301</td>\n",
       "    </tr>\n",
       "  </tbody>\n",
       "</table>\n",
       "</div>"
      ],
      "text/plain": [
       "      Year  PPG_VORP_half-ppr_12tm_3WR  %Pts_rush\n",
       "3705  2018                   -1.044048   0.539163\n",
       "3801  2019                    0.000000   0.371602\n",
       "3873  2020                    3.606250   0.228067\n",
       "3952  2021                    4.556985   0.283171\n",
       "4036  2022                    6.968182   0.301900\n",
       "4122  2023                    5.037376   0.368301"
      ]
     },
     "execution_count": 36,
     "metadata": {},
     "output_type": "execute_result"
    }
   ],
   "source": [
    "view_player('Josh Allen', qb)[['Year', 'PPG_VORP_half-ppr_12tm_3WR', '%Pts_rush']]"
   ]
  },
  {
   "cell_type": "code",
   "execution_count": 39,
   "metadata": {},
   "outputs": [
    {
     "data": {
      "text/html": [
       "<div>\n",
       "<style scoped>\n",
       "    .dataframe tbody tr th:only-of-type {\n",
       "        vertical-align: middle;\n",
       "    }\n",
       "\n",
       "    .dataframe tbody tr th {\n",
       "        vertical-align: top;\n",
       "    }\n",
       "\n",
       "    .dataframe thead th {\n",
       "        text-align: right;\n",
       "    }\n",
       "</style>\n",
       "<table border=\"1\" class=\"dataframe\">\n",
       "  <thead>\n",
       "    <tr style=\"text-align: right;\">\n",
       "      <th></th>\n",
       "      <th>Year</th>\n",
       "      <th>PPG_VORP_half-ppr_12tm_3WR</th>\n",
       "      <th>%Pts_rush</th>\n",
       "    </tr>\n",
       "  </thead>\n",
       "  <tbody>\n",
       "    <tr>\n",
       "      <th>3864</th>\n",
       "      <td>2020</td>\n",
       "      <td>-13.873583</td>\n",
       "      <td>0.493804</td>\n",
       "    </tr>\n",
       "    <tr>\n",
       "      <th>3948</th>\n",
       "      <td>2021</td>\n",
       "      <td>1.639417</td>\n",
       "      <td>0.452051</td>\n",
       "    </tr>\n",
       "    <tr>\n",
       "      <th>4037</th>\n",
       "      <td>2022</td>\n",
       "      <td>7.434182</td>\n",
       "      <td>0.411721</td>\n",
       "    </tr>\n",
       "    <tr>\n",
       "      <th>4123</th>\n",
       "      <td>2023</td>\n",
       "      <td>3.283258</td>\n",
       "      <td>0.421781</td>\n",
       "    </tr>\n",
       "  </tbody>\n",
       "</table>\n",
       "</div>"
      ],
      "text/plain": [
       "      Year  PPG_VORP_half-ppr_12tm_3WR  %Pts_rush\n",
       "3864  2020                  -13.873583   0.493804\n",
       "3948  2021                    1.639417   0.452051\n",
       "4037  2022                    7.434182   0.411721\n",
       "4123  2023                    3.283258   0.421781"
      ]
     },
     "execution_count": 39,
     "metadata": {},
     "output_type": "execute_result"
    }
   ],
   "source": [
    "view_player('Jalen Hurts', qb)[['Year', 'PPG_VORP_half-ppr_12tm_3WR', '%Pts_rush']]"
   ]
  },
  {
   "cell_type": "code",
   "execution_count": 38,
   "metadata": {},
   "outputs": [
    {
     "data": {
      "text/html": [
       "<div>\n",
       "<style scoped>\n",
       "    .dataframe tbody tr th:only-of-type {\n",
       "        vertical-align: middle;\n",
       "    }\n",
       "\n",
       "    .dataframe tbody tr th {\n",
       "        vertical-align: top;\n",
       "    }\n",
       "\n",
       "    .dataframe thead th {\n",
       "        text-align: right;\n",
       "    }\n",
       "</style>\n",
       "<table border=\"1\" class=\"dataframe\">\n",
       "  <thead>\n",
       "    <tr style=\"text-align: right;\">\n",
       "      <th></th>\n",
       "      <th>Year</th>\n",
       "      <th>PPG_VORP_half-ppr_12tm_3WR</th>\n",
       "      <th>%Pts_rush</th>\n",
       "    </tr>\n",
       "  </thead>\n",
       "  <tbody>\n",
       "    <tr>\n",
       "      <th>3596</th>\n",
       "      <td>2017</td>\n",
       "      <td>-6.492500</td>\n",
       "      <td>0.096525</td>\n",
       "    </tr>\n",
       "    <tr>\n",
       "      <th>3724</th>\n",
       "      <td>2018</td>\n",
       "      <td>7.726786</td>\n",
       "      <td>0.094440</td>\n",
       "    </tr>\n",
       "    <tr>\n",
       "      <th>3802</th>\n",
       "      <td>2019</td>\n",
       "      <td>2.700000</td>\n",
       "      <td>0.118580</td>\n",
       "    </tr>\n",
       "    <tr>\n",
       "      <th>3876</th>\n",
       "      <td>2020</td>\n",
       "      <td>3.443750</td>\n",
       "      <td>0.116178</td>\n",
       "    </tr>\n",
       "    <tr>\n",
       "      <th>3956</th>\n",
       "      <td>2021</td>\n",
       "      <td>2.267574</td>\n",
       "      <td>0.140077</td>\n",
       "    </tr>\n",
       "    <tr>\n",
       "      <th>4035</th>\n",
       "      <td>2022</td>\n",
       "      <td>6.668770</td>\n",
       "      <td>0.145712</td>\n",
       "    </tr>\n",
       "    <tr>\n",
       "      <th>4131</th>\n",
       "      <td>2023</td>\n",
       "      <td>-0.192404</td>\n",
       "      <td>0.138819</td>\n",
       "    </tr>\n",
       "  </tbody>\n",
       "</table>\n",
       "</div>"
      ],
      "text/plain": [
       "      Year  PPG_VORP_half-ppr_12tm_3WR  %Pts_rush\n",
       "3596  2017                   -6.492500   0.096525\n",
       "3724  2018                    7.726786   0.094440\n",
       "3802  2019                    2.700000   0.118580\n",
       "3876  2020                    3.443750   0.116178\n",
       "3956  2021                    2.267574   0.140077\n",
       "4035  2022                    6.668770   0.145712\n",
       "4131  2023                   -0.192404   0.138819"
      ]
     },
     "execution_count": 38,
     "metadata": {},
     "output_type": "execute_result"
    }
   ],
   "source": [
    "view_player('Patrick Mahomes', qb)[['Year', 'PPG_VORP_half-ppr_12tm_3WR', '%Pts_rush']]"
   ]
  },
  {
   "cell_type": "markdown",
   "metadata": {},
   "source": [
    "### Receiving\n",
    "How does a team's receiving grade affect QB fantasy performance?"
   ]
  },
  {
   "cell_type": "code",
   "execution_count": 42,
   "metadata": {},
   "outputs": [
    {
     "data": {
      "text/html": [
       "<div>\n",
       "<style scoped>\n",
       "    .dataframe tbody tr th:only-of-type {\n",
       "        vertical-align: middle;\n",
       "    }\n",
       "\n",
       "    .dataframe tbody tr th {\n",
       "        vertical-align: top;\n",
       "    }\n",
       "\n",
       "    .dataframe thead th {\n",
       "        text-align: right;\n",
       "    }\n",
       "</style>\n",
       "<table border=\"1\" class=\"dataframe\">\n",
       "  <thead>\n",
       "    <tr style=\"text-align: right;\">\n",
       "      <th></th>\n",
       "      <th>PPG_half-ppr</th>\n",
       "      <th>Team_PPG</th>\n",
       "      <th>Team_Passing Grade</th>\n",
       "      <th>Team_Receiving Grade</th>\n",
       "      <th>Team_Offense Grade</th>\n",
       "      <th>Team_Wins</th>\n",
       "      <th>Team_Team Grade</th>\n",
       "      <th>Team_Rushing Grade</th>\n",
       "      <th>Team_Special Teams Grade</th>\n",
       "      <th>Team_PPG_allowed</th>\n",
       "      <th>Team_Pass Rush Grade</th>\n",
       "      <th>Team_Pass Blocking Grade</th>\n",
       "      <th>Team_Run Blocking Grade</th>\n",
       "      <th>Team_Coverage Grade</th>\n",
       "      <th>Team_Defense Grade</th>\n",
       "      <th>Team_Run Defense Grade</th>\n",
       "      <th>Team_Tackling Grade</th>\n",
       "      <th>Team_Losses</th>\n",
       "      <th>Will_be_on_New_Team</th>\n",
       "      <th>New_Team</th>\n",
       "      <th>Rush_Team_Rush%</th>\n",
       "    </tr>\n",
       "  </thead>\n",
       "  <tbody>\n",
       "    <tr>\n",
       "      <th>PPG_half-ppr</th>\n",
       "      <td>1.0</td>\n",
       "      <td>0.331125</td>\n",
       "      <td>0.330024</td>\n",
       "      <td>0.284662</td>\n",
       "      <td>0.277351</td>\n",
       "      <td>0.197201</td>\n",
       "      <td>0.186525</td>\n",
       "      <td>0.177118</td>\n",
       "      <td>0.03291</td>\n",
       "      <td>0.029373</td>\n",
       "      <td>-0.012986</td>\n",
       "      <td>-0.025557</td>\n",
       "      <td>-0.032754</td>\n",
       "      <td>-0.034064</td>\n",
       "      <td>-0.071875</td>\n",
       "      <td>-0.092993</td>\n",
       "      <td>-0.120411</td>\n",
       "      <td>-0.19398</td>\n",
       "      <td>-0.219034</td>\n",
       "      <td>-0.292633</td>\n",
       "      <td>-0.315097</td>\n",
       "    </tr>\n",
       "  </tbody>\n",
       "</table>\n",
       "</div>"
      ],
      "text/plain": [
       "              PPG_half-ppr  Team_PPG  Team_Passing Grade  \\\n",
       "PPG_half-ppr           1.0  0.331125            0.330024   \n",
       "\n",
       "              Team_Receiving Grade  Team_Offense Grade  Team_Wins  \\\n",
       "PPG_half-ppr              0.284662            0.277351   0.197201   \n",
       "\n",
       "              Team_Team Grade  Team_Rushing Grade  Team_Special Teams Grade  \\\n",
       "PPG_half-ppr         0.186525            0.177118                   0.03291   \n",
       "\n",
       "              Team_PPG_allowed  Team_Pass Rush Grade  \\\n",
       "PPG_half-ppr          0.029373             -0.012986   \n",
       "\n",
       "              Team_Pass Blocking Grade  Team_Run Blocking Grade  \\\n",
       "PPG_half-ppr                 -0.025557                -0.032754   \n",
       "\n",
       "              Team_Coverage Grade  Team_Defense Grade  Team_Run Defense Grade  \\\n",
       "PPG_half-ppr            -0.034064           -0.071875               -0.092993   \n",
       "\n",
       "              Team_Tackling Grade  Team_Losses  Will_be_on_New_Team  New_Team  \\\n",
       "PPG_half-ppr            -0.120411     -0.19398            -0.219034 -0.292633   \n",
       "\n",
       "              Rush_Team_Rush%  \n",
       "PPG_half-ppr        -0.315097  "
      ]
     },
     "execution_count": 42,
     "metadata": {},
     "output_type": "execute_result"
    }
   ],
   "source": [
    "# look at cols that contain 'Team'\n",
    "team_cols = qb.columns[qb.columns.str.contains('Team')].to_list()\n",
    "\n",
    "# see how team_cols correlate with 'PPG_half-ppr'\n",
    "qb[team_cols + ['PPG_half-ppr']].corr()[['PPG_half-ppr']].sort_values(by='PPG_half-ppr', ascending=False).T"
   ]
  },
  {
   "cell_type": "code",
   "execution_count": null,
   "metadata": {},
   "outputs": [],
   "source": [
    "# drop null targets\n",
    "corr_df = top_25.dropna(subset=['SeasonTarget_ppr'])\n",
    "\n",
    "# get correlation with Season Target\n",
    "corr = corr_df[team_cols].corr()[['SeasonTarget_ppr']].sort_values(by='SeasonTarget_ppr', ascending=False).T"
   ]
  },
  {
   "cell_type": "code",
   "execution_count": null,
   "metadata": {},
   "outputs": [],
   "source": []
  },
  {
   "cell_type": "code",
   "execution_count": null,
   "metadata": {},
   "outputs": [],
   "source": []
  },
  {
   "cell_type": "code",
   "execution_count": null,
   "metadata": {},
   "outputs": [],
   "source": []
  },
  {
   "cell_type": "code",
   "execution_count": null,
   "metadata": {},
   "outputs": [],
   "source": []
  },
  {
   "cell_type": "code",
   "execution_count": null,
   "metadata": {},
   "outputs": [],
   "source": []
  },
  {
   "cell_type": "code",
   "execution_count": null,
   "metadata": {},
   "outputs": [],
   "source": []
  },
  {
   "cell_type": "code",
   "execution_count": null,
   "metadata": {},
   "outputs": [],
   "source": []
  }
 ],
 "metadata": {
  "kernelspec": {
   "display_name": "torch_env",
   "language": "python",
   "name": "python3"
  },
  "language_info": {
   "codemirror_mode": {
    "name": "ipython",
    "version": 3
   },
   "file_extension": ".py",
   "mimetype": "text/x-python",
   "name": "python",
   "nbconvert_exporter": "python",
   "pygments_lexer": "ipython3",
   "version": "3.8.18"
  }
 },
 "nbformat": 4,
 "nbformat_minor": 2
}
