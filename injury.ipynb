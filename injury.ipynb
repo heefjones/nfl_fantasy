{
 "cells": [
  {
   "cell_type": "markdown",
   "metadata": {},
   "source": [
    "# Import Data"
   ]
  },
  {
   "cell_type": "code",
   "execution_count": 8,
   "metadata": {},
   "outputs": [],
   "source": [
    "# clear memory\n",
    "# %reset -f\n",
    "\n",
    "# helper.py\n",
    "from helper import *"
   ]
  },
  {
   "cell_type": "markdown",
   "metadata": {},
   "source": [
    "- use volume\n"
   ]
  },
  {
   "cell_type": "code",
   "execution_count": 59,
   "metadata": {},
   "outputs": [
    {
     "name": "stdout",
     "output_type": "stream",
     "text": [
      "Shape: (29369, 14)\n",
      "Null values:\n"
     ]
    },
    {
     "data": {
      "text/html": [
       "<div>\n",
       "<style scoped>\n",
       "    .dataframe tbody tr th:only-of-type {\n",
       "        vertical-align: middle;\n",
       "    }\n",
       "\n",
       "    .dataframe tbody tr th {\n",
       "        vertical-align: top;\n",
       "    }\n",
       "\n",
       "    .dataframe thead th {\n",
       "        text-align: right;\n",
       "    }\n",
       "</style>\n",
       "<table border=\"1\" class=\"dataframe\">\n",
       "  <thead>\n",
       "    <tr style=\"text-align: right;\">\n",
       "      <th></th>\n",
       "      <th>Player</th>\n",
       "      <th>Tm</th>\n",
       "      <th>Pos</th>\n",
       "      <th>Key</th>\n",
       "      <th>Year</th>\n",
       "      <th>Age</th>\n",
       "      <th>Exp</th>\n",
       "      <th>games_played_pct</th>\n",
       "      <th>games_started_pct</th>\n",
       "      <th>Pass_Att_per_game</th>\n",
       "      <th>Rush_Att_per_game</th>\n",
       "      <th>Rec_Tgt_per_game</th>\n",
       "      <th>Rec_Rec_per_game</th>\n",
       "      <th>target</th>\n",
       "    </tr>\n",
       "  </thead>\n",
       "  <tbody>\n",
       "    <tr>\n",
       "      <th>0</th>\n",
       "      <td>0</td>\n",
       "      <td>0</td>\n",
       "      <td>0</td>\n",
       "      <td>0</td>\n",
       "      <td>0</td>\n",
       "      <td>0</td>\n",
       "      <td>0</td>\n",
       "      <td>0</td>\n",
       "      <td>0</td>\n",
       "      <td>0</td>\n",
       "      <td>0</td>\n",
       "      <td>0</td>\n",
       "      <td>0</td>\n",
       "      <td>6959</td>\n",
       "    </tr>\n",
       "  </tbody>\n",
       "</table>\n",
       "</div>"
      ],
      "text/plain": [
       "   Player  Tm  Pos  Key  Year  Age  Exp  games_played_pct  games_started_pct  \\\n",
       "0       0   0    0    0     0    0    0                 0                  0   \n",
       "\n",
       "   Pass_Att_per_game  Rush_Att_per_game  Rec_Tgt_per_game  Rec_Rec_per_game  \\\n",
       "0                  0                  0                 0                 0   \n",
       "\n",
       "   target  \n",
       "0    6959  "
      ]
     },
     "metadata": {},
     "output_type": "display_data"
    }
   ],
   "source": [
    "# load data and sort\n",
    "df = pd.read_csv('./data/clean/fantasy_data.csv').sort_values(by=['Key', 'Exp']).reset_index(drop=True)\n",
    "\n",
    "# get injury-related cols\n",
    "injury_cols = ['Player', 'Tm', 'Pos', 'Key', 'Year', 'Age', 'Exp', 'games_played_pct', 'games_started_pct', 'Pass_Att_per_game', 'Rush_Att_per_game', 'Rec_Tgt_per_game', 'Rec_Rec_per_game']\n",
    "df = df[injury_cols]\n",
    "\n",
    "# target is games played in next season\n",
    "df['target'] = df.groupby('Key')['games_played_pct'].shift(-1)\n",
    "\n",
    "# show shape and nulls\n",
    "show_shape_and_nulls(df)"
   ]
  },
  {
   "cell_type": "markdown",
   "metadata": {},
   "source": [
    "- The only null values are held in the \"Target\" column (indicating players in their final season). We cannot use rows without a target to train, so they will be dropped here."
   ]
  },
  {
   "cell_type": "code",
   "execution_count": 60,
   "metadata": {},
   "outputs": [
    {
     "data": {
      "text/plain": [
       "0"
      ]
     },
     "execution_count": 60,
     "metadata": {},
     "output_type": "execute_result"
    }
   ],
   "source": [
    "# drop rows with null target values\n",
    "df = df.dropna(subset='target')\n",
    "\n",
    "# check\n",
    "df.isna().sum().sum()"
   ]
  },
  {
   "cell_type": "markdown",
   "metadata": {},
   "source": [
    "# Create Features"
   ]
  },
  {
   "cell_type": "code",
   "execution_count": null,
   "metadata": {},
   "outputs": [],
   "source": [
    "def create_features(df, target_col):\n",
    "    \"\"\"\n",
    "    Create features for each player.\n",
    "\n",
    "    Args:\n",
    "    - df (pd.dataframe): Player data.\n",
    "\n",
    "    Returns:\n",
    "    - (pl.dataframe): Dataframe with new features added.\n",
    "    \"\"\"\n",
    "\n",
    "    # convert to polars dataframe and sort\n",
    "    df = pl.from_pandas(df).sort([\"Key\", \"Year\"])\n",
    "\n",
    "    # convert to a lazy frame for efficiency\n",
    "    lazy_df = df.lazy()\n",
    "\n",
    "    # define cols to aggregate\n",
    "    non_agg_cols = ['Player', 'Tm', 'Pos', 'Key', 'Year', 'Age', 'Exp'] + [target_col]\n",
    "    agg_cols = [col for col in df.columns if col not in non_agg_cols]\n",
    "\n",
    "    # list of expressions for original columns\n",
    "    base_exprs = [pl.col('*')]\n",
    "\n",
    "    # expressions that rely on prior aliases\n",
    "    post_exprs = []\n",
    "\n",
    "    # iterate through each column to be aggregated\n",
    "    for col in agg_cols:\n",
    "        # rolling stats (n years)\n",
    "        for n in [2, 3]:\n",
    "            base_exprs.extend([\n",
    "                pl.col(col)\n",
    "                .rolling_mean(window_size=n, min_samples=1)\n",
    "                .over('Key')\n",
    "                .alias(f'{col}_{n}y_mean'),\n",
    "                pl.col(col)\n",
    "                .rolling_std(window_size=n, min_samples=1)\n",
    "                .over('Key')\n",
    "                .alias(f'{col}_{n}y_std')])\n",
    "\n",
    "        # cumulative career mean\n",
    "        cum_sum = pl.col(col).cum_sum().over('Key')\n",
    "        cum_count = (pl.col('Exp') + 1)\n",
    "        cum_mean = (cum_sum / cum_count).alias(f'{col}_career_mean')\n",
    "        base_exprs.extend([cum_mean])\n",
    "\n",
    "    # add the new columns to df\n",
    "    lazy_df = lazy_df.with_columns(base_exprs)\n",
    "\n",
    "    # collect results back into a pandas df\n",
    "    df_pandas = lazy_df.collect().to_pandas()\n",
    "\n",
    "    # fill nulls and infs with 0\n",
    "    non_target_cols = [col for col in df_pandas.columns if col != target_col]\n",
    "    df_pandas[non_target_cols] = df_pandas[non_target_cols].replace([np.inf, -np.inf], np.nan).fillna(0)\n",
    "\n",
    "    # sort columns \n",
    "    return df_pandas[sorted(df_pandas.columns)]"
   ]
  },
  {
   "cell_type": "code",
   "execution_count": 62,
   "metadata": {},
   "outputs": [
    {
     "name": "stdout",
     "output_type": "stream",
     "text": [
      "Shape: (22410, 56)\n",
      "Null values:\n"
     ]
    },
    {
     "data": {
      "text/html": [
       "<div>\n",
       "<style scoped>\n",
       "    .dataframe tbody tr th:only-of-type {\n",
       "        vertical-align: middle;\n",
       "    }\n",
       "\n",
       "    .dataframe tbody tr th {\n",
       "        vertical-align: top;\n",
       "    }\n",
       "\n",
       "    .dataframe thead th {\n",
       "        text-align: right;\n",
       "    }\n",
       "</style>\n",
       "<table border=\"1\" class=\"dataframe\">\n",
       "  <thead>\n",
       "    <tr style=\"text-align: right;\">\n",
       "      <th></th>\n",
       "      <th>Age</th>\n",
       "      <th>Exp</th>\n",
       "      <th>Key</th>\n",
       "      <th>Pass_Att_per_game</th>\n",
       "      <th>Pass_Att_per_game_2y_mean</th>\n",
       "      <th>Pass_Att_per_game_2y_std</th>\n",
       "      <th>Pass_Att_per_game_3y_mean</th>\n",
       "      <th>Pass_Att_per_game_3y_std</th>\n",
       "      <th>Pass_Att_per_game_4y_mean</th>\n",
       "      <th>Pass_Att_per_game_4y_std</th>\n",
       "      <th>Pass_Att_per_game_career_mean</th>\n",
       "      <th>Player</th>\n",
       "      <th>Pos</th>\n",
       "      <th>Rec_Rec_per_game</th>\n",
       "      <th>Rec_Rec_per_game_2y_mean</th>\n",
       "      <th>Rec_Rec_per_game_2y_std</th>\n",
       "      <th>Rec_Rec_per_game_3y_mean</th>\n",
       "      <th>Rec_Rec_per_game_3y_std</th>\n",
       "      <th>Rec_Rec_per_game_4y_mean</th>\n",
       "      <th>Rec_Rec_per_game_4y_std</th>\n",
       "      <th>Rec_Rec_per_game_career_mean</th>\n",
       "      <th>Rec_Tgt_per_game</th>\n",
       "      <th>Rec_Tgt_per_game_2y_mean</th>\n",
       "      <th>Rec_Tgt_per_game_2y_std</th>\n",
       "      <th>Rec_Tgt_per_game_3y_mean</th>\n",
       "      <th>Rec_Tgt_per_game_3y_std</th>\n",
       "      <th>Rec_Tgt_per_game_4y_mean</th>\n",
       "      <th>Rec_Tgt_per_game_4y_std</th>\n",
       "      <th>Rec_Tgt_per_game_career_mean</th>\n",
       "      <th>Rush_Att_per_game</th>\n",
       "      <th>Rush_Att_per_game_2y_mean</th>\n",
       "      <th>Rush_Att_per_game_2y_std</th>\n",
       "      <th>Rush_Att_per_game_3y_mean</th>\n",
       "      <th>Rush_Att_per_game_3y_std</th>\n",
       "      <th>Rush_Att_per_game_4y_mean</th>\n",
       "      <th>Rush_Att_per_game_4y_std</th>\n",
       "      <th>Rush_Att_per_game_career_mean</th>\n",
       "      <th>Tm</th>\n",
       "      <th>Year</th>\n",
       "      <th>games_played_pct</th>\n",
       "      <th>games_played_pct_2y_mean</th>\n",
       "      <th>games_played_pct_2y_std</th>\n",
       "      <th>games_played_pct_3y_mean</th>\n",
       "      <th>games_played_pct_3y_std</th>\n",
       "      <th>games_played_pct_4y_mean</th>\n",
       "      <th>games_played_pct_4y_std</th>\n",
       "      <th>games_played_pct_career_mean</th>\n",
       "      <th>games_started_pct</th>\n",
       "      <th>games_started_pct_2y_mean</th>\n",
       "      <th>games_started_pct_2y_std</th>\n",
       "      <th>games_started_pct_3y_mean</th>\n",
       "      <th>games_started_pct_3y_std</th>\n",
       "      <th>games_started_pct_4y_mean</th>\n",
       "      <th>games_started_pct_4y_std</th>\n",
       "      <th>games_started_pct_career_mean</th>\n",
       "      <th>target</th>\n",
       "    </tr>\n",
       "  </thead>\n",
       "  <tbody>\n",
       "    <tr>\n",
       "      <th>0</th>\n",
       "      <td>0</td>\n",
       "      <td>0</td>\n",
       "      <td>0</td>\n",
       "      <td>0</td>\n",
       "      <td>0</td>\n",
       "      <td>0</td>\n",
       "      <td>0</td>\n",
       "      <td>0</td>\n",
       "      <td>0</td>\n",
       "      <td>0</td>\n",
       "      <td>0</td>\n",
       "      <td>0</td>\n",
       "      <td>0</td>\n",
       "      <td>0</td>\n",
       "      <td>0</td>\n",
       "      <td>0</td>\n",
       "      <td>0</td>\n",
       "      <td>0</td>\n",
       "      <td>0</td>\n",
       "      <td>0</td>\n",
       "      <td>0</td>\n",
       "      <td>0</td>\n",
       "      <td>0</td>\n",
       "      <td>0</td>\n",
       "      <td>0</td>\n",
       "      <td>0</td>\n",
       "      <td>0</td>\n",
       "      <td>0</td>\n",
       "      <td>0</td>\n",
       "      <td>0</td>\n",
       "      <td>0</td>\n",
       "      <td>0</td>\n",
       "      <td>0</td>\n",
       "      <td>0</td>\n",
       "      <td>0</td>\n",
       "      <td>0</td>\n",
       "      <td>0</td>\n",
       "      <td>0</td>\n",
       "      <td>0</td>\n",
       "      <td>0</td>\n",
       "      <td>0</td>\n",
       "      <td>0</td>\n",
       "      <td>0</td>\n",
       "      <td>0</td>\n",
       "      <td>0</td>\n",
       "      <td>0</td>\n",
       "      <td>0</td>\n",
       "      <td>0</td>\n",
       "      <td>0</td>\n",
       "      <td>0</td>\n",
       "      <td>0</td>\n",
       "      <td>0</td>\n",
       "      <td>0</td>\n",
       "      <td>0</td>\n",
       "      <td>0</td>\n",
       "      <td>0</td>\n",
       "    </tr>\n",
       "  </tbody>\n",
       "</table>\n",
       "</div>"
      ],
      "text/plain": [
       "   Age  Exp  Key  Pass_Att_per_game  Pass_Att_per_game_2y_mean  \\\n",
       "0    0    0    0                  0                          0   \n",
       "\n",
       "   Pass_Att_per_game_2y_std  Pass_Att_per_game_3y_mean  \\\n",
       "0                         0                          0   \n",
       "\n",
       "   Pass_Att_per_game_3y_std  Pass_Att_per_game_4y_mean  \\\n",
       "0                         0                          0   \n",
       "\n",
       "   Pass_Att_per_game_4y_std  Pass_Att_per_game_career_mean  Player  Pos  \\\n",
       "0                         0                              0       0    0   \n",
       "\n",
       "   Rec_Rec_per_game  Rec_Rec_per_game_2y_mean  Rec_Rec_per_game_2y_std  \\\n",
       "0                 0                         0                        0   \n",
       "\n",
       "   Rec_Rec_per_game_3y_mean  Rec_Rec_per_game_3y_std  \\\n",
       "0                         0                        0   \n",
       "\n",
       "   Rec_Rec_per_game_4y_mean  Rec_Rec_per_game_4y_std  \\\n",
       "0                         0                        0   \n",
       "\n",
       "   Rec_Rec_per_game_career_mean  Rec_Tgt_per_game  Rec_Tgt_per_game_2y_mean  \\\n",
       "0                             0                 0                         0   \n",
       "\n",
       "   Rec_Tgt_per_game_2y_std  Rec_Tgt_per_game_3y_mean  Rec_Tgt_per_game_3y_std  \\\n",
       "0                        0                         0                        0   \n",
       "\n",
       "   Rec_Tgt_per_game_4y_mean  Rec_Tgt_per_game_4y_std  \\\n",
       "0                         0                        0   \n",
       "\n",
       "   Rec_Tgt_per_game_career_mean  Rush_Att_per_game  Rush_Att_per_game_2y_mean  \\\n",
       "0                             0                  0                          0   \n",
       "\n",
       "   Rush_Att_per_game_2y_std  Rush_Att_per_game_3y_mean  \\\n",
       "0                         0                          0   \n",
       "\n",
       "   Rush_Att_per_game_3y_std  Rush_Att_per_game_4y_mean  \\\n",
       "0                         0                          0   \n",
       "\n",
       "   Rush_Att_per_game_4y_std  Rush_Att_per_game_career_mean  Tm  Year  \\\n",
       "0                         0                              0   0     0   \n",
       "\n",
       "   games_played_pct  games_played_pct_2y_mean  games_played_pct_2y_std  \\\n",
       "0                 0                         0                        0   \n",
       "\n",
       "   games_played_pct_3y_mean  games_played_pct_3y_std  \\\n",
       "0                         0                        0   \n",
       "\n",
       "   games_played_pct_4y_mean  games_played_pct_4y_std  \\\n",
       "0                         0                        0   \n",
       "\n",
       "   games_played_pct_career_mean  games_started_pct  games_started_pct_2y_mean  \\\n",
       "0                             0                  0                          0   \n",
       "\n",
       "   games_started_pct_2y_std  games_started_pct_3y_mean  \\\n",
       "0                         0                          0   \n",
       "\n",
       "   games_started_pct_3y_std  games_started_pct_4y_mean  \\\n",
       "0                         0                          0   \n",
       "\n",
       "   games_started_pct_4y_std  games_started_pct_career_mean  target  \n",
       "0                         0                              0       0  "
      ]
     },
     "metadata": {},
     "output_type": "display_data"
    }
   ],
   "source": [
    "# aggregate data by player\n",
    "features = create_features(df, target_col='target')\n",
    "\n",
    "# show shape and nulls\n",
    "show_shape_and_nulls(features)"
   ]
  },
  {
   "cell_type": "code",
   "execution_count": 63,
   "metadata": {},
   "outputs": [
    {
     "data": {
      "text/plain": [
       "0"
      ]
     },
     "execution_count": 63,
     "metadata": {},
     "output_type": "execute_result"
    }
   ],
   "source": [
    "# get 2024 features\n",
    "features_2024 = features[features['Year'] == 2024].copy()\n",
    "\n",
    "# drop players with null target values\n",
    "features = features.dropna(subset='target')\n",
    "\n",
    "# check\n",
    "features.isna().sum().sum()"
   ]
  },
  {
   "cell_type": "markdown",
   "metadata": {},
   "source": [
    "# Positional Subsets"
   ]
  },
  {
   "cell_type": "code",
   "execution_count": 64,
   "metadata": {},
   "outputs": [
    {
     "data": {
      "text/plain": [
       "((3458, 40), (7089, 48), (11863, 48))"
      ]
     },
     "execution_count": 64,
     "metadata": {},
     "output_type": "execute_result"
    }
   ],
   "source": [
    "# get positional subsets\n",
    "qb, rb, wr_te = get_pos_subsets(features)\n",
    "\n",
    "# show shapes\n",
    "qb.shape, rb.shape, wr_te.shape"
   ]
  },
  {
   "cell_type": "markdown",
   "metadata": {},
   "source": [
    "# Baseline\n",
    "- Baseline RMSE scores for the 3 positional subsets using an XGBoost with 1000 trees."
   ]
  },
  {
   "cell_type": "code",
   "execution_count": 58,
   "metadata": {},
   "outputs": [
    {
     "name": "stdout",
     "output_type": "stream",
     "text": [
      "--- QB ---\n"
     ]
    },
    {
     "data": {
      "text/html": [
       "<div>\n",
       "<style scoped>\n",
       "    .dataframe tbody tr th:only-of-type {\n",
       "        vertical-align: middle;\n",
       "    }\n",
       "\n",
       "    .dataframe tbody tr th {\n",
       "        vertical-align: top;\n",
       "    }\n",
       "\n",
       "    .dataframe thead th {\n",
       "        text-align: right;\n",
       "    }\n",
       "</style>\n",
       "<table border=\"1\" class=\"dataframe\">\n",
       "  <thead>\n",
       "    <tr style=\"text-align: right;\">\n",
       "      <th></th>\n",
       "      <th>train_rmse</th>\n",
       "      <th>train_r2</th>\n",
       "      <th>val_rmse</th>\n",
       "      <th>val_r2</th>\n",
       "    </tr>\n",
       "  </thead>\n",
       "  <tbody>\n",
       "    <tr>\n",
       "      <th>mean</th>\n",
       "      <td>0.023505</td>\n",
       "      <td>0.995010</td>\n",
       "      <td>0.309306</td>\n",
       "      <td>0.148888</td>\n",
       "    </tr>\n",
       "    <tr>\n",
       "      <th>std</th>\n",
       "      <td>0.003312</td>\n",
       "      <td>0.001375</td>\n",
       "      <td>0.008444</td>\n",
       "      <td>0.031412</td>\n",
       "    </tr>\n",
       "  </tbody>\n",
       "</table>\n",
       "</div>"
      ],
      "text/plain": [
       "      train_rmse  train_r2  val_rmse    val_r2\n",
       "mean    0.023505  0.995010  0.309306  0.148888\n",
       "std     0.003312  0.001375  0.008444  0.031412"
      ]
     },
     "metadata": {},
     "output_type": "display_data"
    },
    {
     "name": "stdout",
     "output_type": "stream",
     "text": [
      "--- RB ---\n"
     ]
    },
    {
     "data": {
      "text/html": [
       "<div>\n",
       "<style scoped>\n",
       "    .dataframe tbody tr th:only-of-type {\n",
       "        vertical-align: middle;\n",
       "    }\n",
       "\n",
       "    .dataframe tbody tr th {\n",
       "        vertical-align: top;\n",
       "    }\n",
       "\n",
       "    .dataframe thead th {\n",
       "        text-align: right;\n",
       "    }\n",
       "</style>\n",
       "<table border=\"1\" class=\"dataframe\">\n",
       "  <thead>\n",
       "    <tr style=\"text-align: right;\">\n",
       "      <th></th>\n",
       "      <th>train_rmse</th>\n",
       "      <th>train_r2</th>\n",
       "      <th>val_rmse</th>\n",
       "      <th>val_r2</th>\n",
       "    </tr>\n",
       "  </thead>\n",
       "  <tbody>\n",
       "    <tr>\n",
       "      <th>mean</th>\n",
       "      <td>0.044403</td>\n",
       "      <td>0.974904</td>\n",
       "      <td>0.300237</td>\n",
       "      <td>-0.147688</td>\n",
       "    </tr>\n",
       "    <tr>\n",
       "      <th>std</th>\n",
       "      <td>0.002047</td>\n",
       "      <td>0.002082</td>\n",
       "      <td>0.004590</td>\n",
       "      <td>0.020959</td>\n",
       "    </tr>\n",
       "  </tbody>\n",
       "</table>\n",
       "</div>"
      ],
      "text/plain": [
       "      train_rmse  train_r2  val_rmse    val_r2\n",
       "mean    0.044403  0.974904  0.300237 -0.147688\n",
       "std     0.002047  0.002082  0.004590  0.020959"
      ]
     },
     "metadata": {},
     "output_type": "display_data"
    },
    {
     "name": "stdout",
     "output_type": "stream",
     "text": [
      "--- WR/TE ---\n"
     ]
    },
    {
     "data": {
      "text/html": [
       "<div>\n",
       "<style scoped>\n",
       "    .dataframe tbody tr th:only-of-type {\n",
       "        vertical-align: middle;\n",
       "    }\n",
       "\n",
       "    .dataframe tbody tr th {\n",
       "        vertical-align: top;\n",
       "    }\n",
       "\n",
       "    .dataframe thead th {\n",
       "        text-align: right;\n",
       "    }\n",
       "</style>\n",
       "<table border=\"1\" class=\"dataframe\">\n",
       "  <thead>\n",
       "    <tr style=\"text-align: right;\">\n",
       "      <th></th>\n",
       "      <th>train_rmse</th>\n",
       "      <th>train_r2</th>\n",
       "      <th>val_rmse</th>\n",
       "      <th>val_r2</th>\n",
       "    </tr>\n",
       "  </thead>\n",
       "  <tbody>\n",
       "    <tr>\n",
       "      <th>mean</th>\n",
       "      <td>0.060292</td>\n",
       "      <td>0.954274</td>\n",
       "      <td>0.299320</td>\n",
       "      <td>-0.128511</td>\n",
       "    </tr>\n",
       "    <tr>\n",
       "      <th>std</th>\n",
       "      <td>0.000771</td>\n",
       "      <td>0.000846</td>\n",
       "      <td>0.006014</td>\n",
       "      <td>0.039049</td>\n",
       "    </tr>\n",
       "  </tbody>\n",
       "</table>\n",
       "</div>"
      ],
      "text/plain": [
       "      train_rmse  train_r2  val_rmse    val_r2\n",
       "mean    0.060292  0.954274  0.299320 -0.128511\n",
       "std     0.000771  0.000846  0.006014  0.039049"
      ]
     },
     "metadata": {},
     "output_type": "display_data"
    }
   ],
   "source": [
    "# added 2yr stats\n",
    "for pos, data in zip(['QB', 'RB', 'WR/TE'], [qb, rb, wr_te]):\n",
    "    # cross validate\n",
    "    model = XGBRegressor(n_jobs=-1, random_state=SEED, n_estimators=1000)\n",
    "    summary = cross_val(df=data, target_col='target', estimator=model)\n",
    "\n",
    "    # show results\n",
    "    print(f'--- {pos} ---')\n",
    "    display(summary)"
   ]
  },
  {
   "cell_type": "code",
   "execution_count": 65,
   "metadata": {},
   "outputs": [
    {
     "name": "stdout",
     "output_type": "stream",
     "text": [
      "--- QB ---\n"
     ]
    },
    {
     "data": {
      "text/html": [
       "<div>\n",
       "<style scoped>\n",
       "    .dataframe tbody tr th:only-of-type {\n",
       "        vertical-align: middle;\n",
       "    }\n",
       "\n",
       "    .dataframe tbody tr th {\n",
       "        vertical-align: top;\n",
       "    }\n",
       "\n",
       "    .dataframe thead th {\n",
       "        text-align: right;\n",
       "    }\n",
       "</style>\n",
       "<table border=\"1\" class=\"dataframe\">\n",
       "  <thead>\n",
       "    <tr style=\"text-align: right;\">\n",
       "      <th></th>\n",
       "      <th>train_rmse</th>\n",
       "      <th>train_r2</th>\n",
       "      <th>val_rmse</th>\n",
       "      <th>val_r2</th>\n",
       "    </tr>\n",
       "  </thead>\n",
       "  <tbody>\n",
       "    <tr>\n",
       "      <th>mean</th>\n",
       "      <td>0.023517</td>\n",
       "      <td>0.995005</td>\n",
       "      <td>0.309643</td>\n",
       "      <td>0.147072</td>\n",
       "    </tr>\n",
       "    <tr>\n",
       "      <th>std</th>\n",
       "      <td>0.003320</td>\n",
       "      <td>0.001380</td>\n",
       "      <td>0.007586</td>\n",
       "      <td>0.026319</td>\n",
       "    </tr>\n",
       "  </tbody>\n",
       "</table>\n",
       "</div>"
      ],
      "text/plain": [
       "      train_rmse  train_r2  val_rmse    val_r2\n",
       "mean    0.023517  0.995005  0.309643  0.147072\n",
       "std     0.003320  0.001380  0.007586  0.026319"
      ]
     },
     "metadata": {},
     "output_type": "display_data"
    },
    {
     "name": "stdout",
     "output_type": "stream",
     "text": [
      "--- RB ---\n"
     ]
    },
    {
     "data": {
      "text/html": [
       "<div>\n",
       "<style scoped>\n",
       "    .dataframe tbody tr th:only-of-type {\n",
       "        vertical-align: middle;\n",
       "    }\n",
       "\n",
       "    .dataframe tbody tr th {\n",
       "        vertical-align: top;\n",
       "    }\n",
       "\n",
       "    .dataframe thead th {\n",
       "        text-align: right;\n",
       "    }\n",
       "</style>\n",
       "<table border=\"1\" class=\"dataframe\">\n",
       "  <thead>\n",
       "    <tr style=\"text-align: right;\">\n",
       "      <th></th>\n",
       "      <th>train_rmse</th>\n",
       "      <th>train_r2</th>\n",
       "      <th>val_rmse</th>\n",
       "      <th>val_r2</th>\n",
       "    </tr>\n",
       "  </thead>\n",
       "  <tbody>\n",
       "    <tr>\n",
       "      <th>mean</th>\n",
       "      <td>0.044380</td>\n",
       "      <td>0.974929</td>\n",
       "      <td>0.301191</td>\n",
       "      <td>-0.154836</td>\n",
       "    </tr>\n",
       "    <tr>\n",
       "      <th>std</th>\n",
       "      <td>0.002052</td>\n",
       "      <td>0.002088</td>\n",
       "      <td>0.005707</td>\n",
       "      <td>0.018107</td>\n",
       "    </tr>\n",
       "  </tbody>\n",
       "</table>\n",
       "</div>"
      ],
      "text/plain": [
       "      train_rmse  train_r2  val_rmse    val_r2\n",
       "mean    0.044380  0.974929  0.301191 -0.154836\n",
       "std     0.002052  0.002088  0.005707  0.018107"
      ]
     },
     "metadata": {},
     "output_type": "display_data"
    },
    {
     "name": "stdout",
     "output_type": "stream",
     "text": [
      "--- WR/TE ---\n"
     ]
    },
    {
     "data": {
      "text/html": [
       "<div>\n",
       "<style scoped>\n",
       "    .dataframe tbody tr th:only-of-type {\n",
       "        vertical-align: middle;\n",
       "    }\n",
       "\n",
       "    .dataframe tbody tr th {\n",
       "        vertical-align: top;\n",
       "    }\n",
       "\n",
       "    .dataframe thead th {\n",
       "        text-align: right;\n",
       "    }\n",
       "</style>\n",
       "<table border=\"1\" class=\"dataframe\">\n",
       "  <thead>\n",
       "    <tr style=\"text-align: right;\">\n",
       "      <th></th>\n",
       "      <th>train_rmse</th>\n",
       "      <th>train_r2</th>\n",
       "      <th>val_rmse</th>\n",
       "      <th>val_r2</th>\n",
       "    </tr>\n",
       "  </thead>\n",
       "  <tbody>\n",
       "    <tr>\n",
       "      <th>mean</th>\n",
       "      <td>0.060207</td>\n",
       "      <td>0.954403</td>\n",
       "      <td>0.298371</td>\n",
       "      <td>-0.121539</td>\n",
       "    </tr>\n",
       "    <tr>\n",
       "      <th>std</th>\n",
       "      <td>0.000794</td>\n",
       "      <td>0.000857</td>\n",
       "      <td>0.003093</td>\n",
       "      <td>0.035686</td>\n",
       "    </tr>\n",
       "  </tbody>\n",
       "</table>\n",
       "</div>"
      ],
      "text/plain": [
       "      train_rmse  train_r2  val_rmse    val_r2\n",
       "mean    0.060207  0.954403  0.298371 -0.121539\n",
       "std     0.000794  0.000857  0.003093  0.035686"
      ]
     },
     "metadata": {},
     "output_type": "display_data"
    }
   ],
   "source": [
    "# added 4yr stats\n",
    "for pos, data in zip(['QB', 'RB', 'WR/TE'], [qb, rb, wr_te]):\n",
    "    # cross validate\n",
    "    model = XGBRegressor(n_jobs=-1, random_state=SEED, n_estimators=1000)\n",
    "    summary = cross_val(df=data, target_col='target', estimator=model)\n",
    "\n",
    "    # show results\n",
    "    print(f'--- {pos} ---')\n",
    "    display(summary)"
   ]
  },
  {
   "cell_type": "markdown",
   "metadata": {},
   "source": [
    "- The train metrics are almost perfect, with much worse validation scores.\n",
    "- We will run 100 iterations of bayesian optimization on each positional group to regularize and bring the validation scores down."
   ]
  },
  {
   "cell_type": "code",
   "execution_count": null,
   "metadata": {},
   "outputs": [],
   "source": []
  },
  {
   "cell_type": "code",
   "execution_count": null,
   "metadata": {},
   "outputs": [],
   "source": []
  },
  {
   "cell_type": "code",
   "execution_count": null,
   "metadata": {},
   "outputs": [],
   "source": []
  }
 ],
 "metadata": {
  "kernelspec": {
   "display_name": "mmlm_env",
   "language": "python",
   "name": "python3"
  },
  "language_info": {
   "codemirror_mode": {
    "name": "ipython",
    "version": 3
   },
   "file_extension": ".py",
   "mimetype": "text/x-python",
   "name": "python",
   "nbconvert_exporter": "python",
   "pygments_lexer": "ipython3",
   "version": "3.11.11"
  }
 },
 "nbformat": 4,
 "nbformat_minor": 2
}
